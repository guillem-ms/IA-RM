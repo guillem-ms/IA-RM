{
  "nbformat": 4,
  "nbformat_minor": 0,
  "metadata": {
    "colab": {
      "name": "Detectron2vsYOLOv5.ipynb",
      "provenance": [],
      "collapsed_sections": [],
      "include_colab_link": true
    },
    "kernelspec": {
      "name": "python3",
      "display_name": "Python 3"
    },
    "language_info": {
      "name": "python"
    },
    "accelerator": "GPU"
  },
  "cells": [
    {
      "cell_type": "markdown",
      "metadata": {
        "id": "view-in-github",
        "colab_type": "text"
      },
      "source": [
        "<a href=\"https://colab.research.google.com/github/guillem-ms/IA-RM/blob/main/Detectron2vsYOLOv5.ipynb\" target=\"_parent\"><img src=\"https://colab.research.google.com/assets/colab-badge.svg\" alt=\"Open In Colab\"/></a>"
      ]
    },
    {
      "cell_type": "markdown",
      "metadata": {
        "id": "ZZbSFyKGfj0c"
      },
      "source": [
        "# Detectron2 Vs YOLOv5\n",
        "\n",
        "After training both models, we test and compare them."
      ]
    },
    {
      "cell_type": "markdown",
      "metadata": {
        "id": "wPvaEIlxq_Bd"
      },
      "source": [
        "<a target=\"_blank\"  href=\"https://colab.research.google.com/drive/15xa6kVtLJNeWKDKmEN0pF5YLm6h8yJ9C#scrollTo=wPvaEIlxq_Bd\">\n",
        "    <img src=\"https://www.tensorflow.org/images/colab_logo_32px.png\" />Run in Google Colab\n",
        "  </a>"
      ]
    },
    {
      "cell_type": "code",
      "metadata": {
        "colab": {
          "base_uri": "https://localhost:8080/"
        },
        "id": "RKKcYXcbbCyg",
        "outputId": "9b1e636b-5bad-4e55-ecd3-7d97f1d22b21"
      },
      "source": [
        "# install dependencies: \n",
        "!pip install pyyaml==5.1\n",
        "import torch, torchvision\n",
        "print(torch.__version__, torch.cuda.is_available())\n",
        "!gcc --version\n",
        "# opencv is pre-installed on colab"
      ],
      "execution_count": 1,
      "outputs": [
        {
          "output_type": "stream",
          "text": [
            "Collecting pyyaml==5.1\n",
            "\u001b[?25l  Downloading https://files.pythonhosted.org/packages/9f/2c/9417b5c774792634834e730932745bc09a7d36754ca00acf1ccd1ac2594d/PyYAML-5.1.tar.gz (274kB)\n",
            "\r\u001b[K     |█▏                              | 10kB 20.8MB/s eta 0:00:01\r\u001b[K     |██▍                             | 20kB 26.2MB/s eta 0:00:01\r\u001b[K     |███▋                            | 30kB 31.3MB/s eta 0:00:01\r\u001b[K     |████▉                           | 40kB 26.0MB/s eta 0:00:01\r\u001b[K     |██████                          | 51kB 25.1MB/s eta 0:00:01\r\u001b[K     |███████▏                        | 61kB 26.8MB/s eta 0:00:01\r\u001b[K     |████████▍                       | 71kB 28.4MB/s eta 0:00:01\r\u001b[K     |█████████▋                      | 81kB 27.9MB/s eta 0:00:01\r\u001b[K     |██████████▊                     | 92kB 29.3MB/s eta 0:00:01\r\u001b[K     |████████████                    | 102kB 28.7MB/s eta 0:00:01\r\u001b[K     |█████████████▏                  | 112kB 28.7MB/s eta 0:00:01\r\u001b[K     |██████████████▍                 | 122kB 28.7MB/s eta 0:00:01\r\u001b[K     |███████████████▌                | 133kB 28.7MB/s eta 0:00:01\r\u001b[K     |████████████████▊               | 143kB 28.7MB/s eta 0:00:01\r\u001b[K     |██████████████████              | 153kB 28.7MB/s eta 0:00:01\r\u001b[K     |███████████████████▏            | 163kB 28.7MB/s eta 0:00:01\r\u001b[K     |████████████████████▎           | 174kB 28.7MB/s eta 0:00:01\r\u001b[K     |█████████████████████▌          | 184kB 28.7MB/s eta 0:00:01\r\u001b[K     |██████████████████████▊         | 194kB 28.7MB/s eta 0:00:01\r\u001b[K     |████████████████████████        | 204kB 28.7MB/s eta 0:00:01\r\u001b[K     |█████████████████████████       | 215kB 28.7MB/s eta 0:00:01\r\u001b[K     |██████████████████████████▎     | 225kB 28.7MB/s eta 0:00:01\r\u001b[K     |███████████████████████████▌    | 235kB 28.7MB/s eta 0:00:01\r\u001b[K     |████████████████████████████▊   | 245kB 28.7MB/s eta 0:00:01\r\u001b[K     |█████████████████████████████▉  | 256kB 28.7MB/s eta 0:00:01\r\u001b[K     |███████████████████████████████ | 266kB 28.7MB/s eta 0:00:01\r\u001b[K     |████████████████████████████████| 276kB 28.7MB/s \n",
            "\u001b[?25hBuilding wheels for collected packages: pyyaml\n",
            "  Building wheel for pyyaml (setup.py) ... \u001b[?25l\u001b[?25hdone\n",
            "  Created wheel for pyyaml: filename=PyYAML-5.1-cp37-cp37m-linux_x86_64.whl size=44074 sha256=4f12f4f0a66ca7a33f6e7d92071bf808344f1ade436d8eb37792944831d00247\n",
            "  Stored in directory: /root/.cache/pip/wheels/ad/56/bc/1522f864feb2a358ea6f1a92b4798d69ac783a28e80567a18b\n",
            "Successfully built pyyaml\n",
            "Installing collected packages: pyyaml\n",
            "  Found existing installation: PyYAML 3.13\n",
            "    Uninstalling PyYAML-3.13:\n",
            "      Successfully uninstalled PyYAML-3.13\n",
            "Successfully installed pyyaml-5.1\n",
            "1.8.1+cu101 True\n",
            "gcc (Ubuntu 7.5.0-3ubuntu1~18.04) 7.5.0\n",
            "Copyright (C) 2017 Free Software Foundation, Inc.\n",
            "This is free software; see the source for copying conditions.  There is NO\n",
            "warranty; not even for MERCHANTABILITY or FITNESS FOR A PARTICULAR PURPOSE.\n",
            "\n"
          ],
          "name": "stdout"
        }
      ]
    },
    {
      "cell_type": "code",
      "metadata": {
        "colab": {
          "base_uri": "https://localhost:8080/"
        },
        "id": "RJ7axCsqfhx1",
        "outputId": "05129773-083d-4c29-e51f-2d690bb907be"
      },
      "source": [
        "# install detectron2: (Colab has CUDA 10.1 + torch 1.8)\n",
        "# See https://detectron2.readthedocs.io/tutorials/install.html for instructions\n",
        "import torch\n",
        "assert torch.__version__.startswith(\"1.8\")   # need to manually install torch 1.8 if Colab changes its default version\n",
        "!pip install detectron2 -f https://dl.fbaipublicfiles.com/detectron2/wheels/cu101/torch1.8/index.html"
      ],
      "execution_count": 2,
      "outputs": [
        {
          "output_type": "stream",
          "text": [
            "Looking in links: https://dl.fbaipublicfiles.com/detectron2/wheels/cu101/torch1.8/index.html\n",
            "Collecting detectron2\n",
            "\u001b[?25l  Downloading https://dl.fbaipublicfiles.com/detectron2/wheels/cu101/torch1.8/detectron2-0.4%2Bcu101-cp37-cp37m-linux_x86_64.whl (6.2MB)\n",
            "\u001b[K     |████████████████████████████████| 6.2MB 609kB/s \n",
            "\u001b[?25hRequirement already satisfied: future in /usr/local/lib/python3.7/dist-packages (from detectron2) (0.16.0)\n",
            "Requirement already satisfied: matplotlib in /usr/local/lib/python3.7/dist-packages (from detectron2) (3.2.2)\n",
            "Requirement already satisfied: tabulate in /usr/local/lib/python3.7/dist-packages (from detectron2) (0.8.9)\n",
            "Collecting fvcore<0.1.4,>=0.1.3\n",
            "\u001b[?25l  Downloading https://files.pythonhosted.org/packages/6b/68/2bacb80e13c4084dfc37fec8f17706a1de4c248157561ff33e463399c4f5/fvcore-0.1.3.post20210317.tar.gz (47kB)\n",
            "\u001b[K     |████████████████████████████████| 51kB 8.0MB/s \n",
            "\u001b[?25hCollecting omegaconf>=2\n",
            "  Downloading https://files.pythonhosted.org/packages/d0/eb/9d63ce09dd8aa85767c65668d5414958ea29648a0eec80a4a7d311ec2684/omegaconf-2.0.6-py3-none-any.whl\n",
            "Requirement already satisfied: termcolor>=1.1 in /usr/local/lib/python3.7/dist-packages (from detectron2) (1.1.0)\n",
            "Requirement already satisfied: Pillow>=7.1 in /usr/local/lib/python3.7/dist-packages (from detectron2) (7.1.2)\n",
            "Requirement already satisfied: pydot in /usr/local/lib/python3.7/dist-packages (from detectron2) (1.3.0)\n",
            "Requirement already satisfied: tqdm>4.29.0 in /usr/local/lib/python3.7/dist-packages (from detectron2) (4.41.1)\n",
            "Requirement already satisfied: tensorboard in /usr/local/lib/python3.7/dist-packages (from detectron2) (2.5.0)\n",
            "Collecting iopath>=0.1.2\n",
            "  Downloading https://files.pythonhosted.org/packages/21/d0/22104caed16fa41382702fed959f4a9b088b2f905e7a82e4483180a2ec2a/iopath-0.1.8-py3-none-any.whl\n",
            "Requirement already satisfied: pycocotools>=2.0.2 in /usr/local/lib/python3.7/dist-packages (from detectron2) (2.0.2)\n",
            "Collecting yacs>=0.1.6\n",
            "  Downloading https://files.pythonhosted.org/packages/38/4f/fe9a4d472aa867878ce3bb7efb16654c5d63672b86dc0e6e953a67018433/yacs-0.1.8-py3-none-any.whl\n",
            "Requirement already satisfied: cloudpickle in /usr/local/lib/python3.7/dist-packages (from detectron2) (1.3.0)\n",
            "Requirement already satisfied: pyparsing!=2.0.4,!=2.1.2,!=2.1.6,>=2.0.1 in /usr/local/lib/python3.7/dist-packages (from matplotlib->detectron2) (2.4.7)\n",
            "Requirement already satisfied: python-dateutil>=2.1 in /usr/local/lib/python3.7/dist-packages (from matplotlib->detectron2) (2.8.1)\n",
            "Requirement already satisfied: kiwisolver>=1.0.1 in /usr/local/lib/python3.7/dist-packages (from matplotlib->detectron2) (1.3.1)\n",
            "Requirement already satisfied: numpy>=1.11 in /usr/local/lib/python3.7/dist-packages (from matplotlib->detectron2) (1.19.5)\n",
            "Requirement already satisfied: cycler>=0.10 in /usr/local/lib/python3.7/dist-packages (from matplotlib->detectron2) (0.10.0)\n",
            "Requirement already satisfied: pyyaml>=5.1 in /usr/local/lib/python3.7/dist-packages (from fvcore<0.1.4,>=0.1.3->detectron2) (5.1)\n",
            "Requirement already satisfied: typing-extensions in /usr/local/lib/python3.7/dist-packages (from omegaconf>=2->detectron2) (3.7.4.3)\n",
            "Requirement already satisfied: google-auth-oauthlib<0.5,>=0.4.1 in /usr/local/lib/python3.7/dist-packages (from tensorboard->detectron2) (0.4.4)\n",
            "Requirement already satisfied: setuptools>=41.0.0 in /usr/local/lib/python3.7/dist-packages (from tensorboard->detectron2) (56.1.0)\n",
            "Requirement already satisfied: markdown>=2.6.8 in /usr/local/lib/python3.7/dist-packages (from tensorboard->detectron2) (3.3.4)\n",
            "Requirement already satisfied: tensorboard-plugin-wit>=1.6.0 in /usr/local/lib/python3.7/dist-packages (from tensorboard->detectron2) (1.8.0)\n",
            "Requirement already satisfied: tensorboard-data-server<0.7.0,>=0.6.0 in /usr/local/lib/python3.7/dist-packages (from tensorboard->detectron2) (0.6.1)\n",
            "Requirement already satisfied: wheel>=0.26; python_version >= \"3\" in /usr/local/lib/python3.7/dist-packages (from tensorboard->detectron2) (0.36.2)\n",
            "Requirement already satisfied: requests<3,>=2.21.0 in /usr/local/lib/python3.7/dist-packages (from tensorboard->detectron2) (2.23.0)\n",
            "Requirement already satisfied: werkzeug>=0.11.15 in /usr/local/lib/python3.7/dist-packages (from tensorboard->detectron2) (1.0.1)\n",
            "Requirement already satisfied: grpcio>=1.24.3 in /usr/local/lib/python3.7/dist-packages (from tensorboard->detectron2) (1.34.1)\n",
            "Requirement already satisfied: protobuf>=3.6.0 in /usr/local/lib/python3.7/dist-packages (from tensorboard->detectron2) (3.12.4)\n",
            "Requirement already satisfied: absl-py>=0.4 in /usr/local/lib/python3.7/dist-packages (from tensorboard->detectron2) (0.12.0)\n",
            "Requirement already satisfied: google-auth<2,>=1.6.3 in /usr/local/lib/python3.7/dist-packages (from tensorboard->detectron2) (1.30.0)\n",
            "Collecting portalocker\n",
            "  Downloading https://files.pythonhosted.org/packages/68/33/cb524f4de298509927b90aa5ee34767b9a2b93e663cf354b2a3efa2b4acd/portalocker-2.3.0-py2.py3-none-any.whl\n",
            "Requirement already satisfied: cython>=0.27.3 in /usr/local/lib/python3.7/dist-packages (from pycocotools>=2.0.2->detectron2) (0.29.23)\n",
            "Requirement already satisfied: six>=1.5 in /usr/local/lib/python3.7/dist-packages (from python-dateutil>=2.1->matplotlib->detectron2) (1.15.0)\n",
            "Requirement already satisfied: requests-oauthlib>=0.7.0 in /usr/local/lib/python3.7/dist-packages (from google-auth-oauthlib<0.5,>=0.4.1->tensorboard->detectron2) (1.3.0)\n",
            "Requirement already satisfied: importlib-metadata; python_version < \"3.8\" in /usr/local/lib/python3.7/dist-packages (from markdown>=2.6.8->tensorboard->detectron2) (4.0.1)\n",
            "Requirement already satisfied: idna<3,>=2.5 in /usr/local/lib/python3.7/dist-packages (from requests<3,>=2.21.0->tensorboard->detectron2) (2.10)\n",
            "Requirement already satisfied: urllib3!=1.25.0,!=1.25.1,<1.26,>=1.21.1 in /usr/local/lib/python3.7/dist-packages (from requests<3,>=2.21.0->tensorboard->detectron2) (1.24.3)\n",
            "Requirement already satisfied: chardet<4,>=3.0.2 in /usr/local/lib/python3.7/dist-packages (from requests<3,>=2.21.0->tensorboard->detectron2) (3.0.4)\n",
            "Requirement already satisfied: certifi>=2017.4.17 in /usr/local/lib/python3.7/dist-packages (from requests<3,>=2.21.0->tensorboard->detectron2) (2020.12.5)\n",
            "Requirement already satisfied: rsa<5,>=3.1.4; python_version >= \"3.6\" in /usr/local/lib/python3.7/dist-packages (from google-auth<2,>=1.6.3->tensorboard->detectron2) (4.7.2)\n",
            "Requirement already satisfied: cachetools<5.0,>=2.0.0 in /usr/local/lib/python3.7/dist-packages (from google-auth<2,>=1.6.3->tensorboard->detectron2) (4.2.2)\n",
            "Requirement already satisfied: pyasn1-modules>=0.2.1 in /usr/local/lib/python3.7/dist-packages (from google-auth<2,>=1.6.3->tensorboard->detectron2) (0.2.8)\n",
            "Requirement already satisfied: oauthlib>=3.0.0 in /usr/local/lib/python3.7/dist-packages (from requests-oauthlib>=0.7.0->google-auth-oauthlib<0.5,>=0.4.1->tensorboard->detectron2) (3.1.0)\n",
            "Requirement already satisfied: zipp>=0.5 in /usr/local/lib/python3.7/dist-packages (from importlib-metadata; python_version < \"3.8\"->markdown>=2.6.8->tensorboard->detectron2) (3.4.1)\n",
            "Requirement already satisfied: pyasn1>=0.1.3 in /usr/local/lib/python3.7/dist-packages (from rsa<5,>=3.1.4; python_version >= \"3.6\"->google-auth<2,>=1.6.3->tensorboard->detectron2) (0.4.8)\n",
            "Building wheels for collected packages: fvcore\n",
            "  Building wheel for fvcore (setup.py) ... \u001b[?25l\u001b[?25hdone\n",
            "  Created wheel for fvcore: filename=fvcore-0.1.3.post20210317-cp37-none-any.whl size=58543 sha256=558f15540d16f87bc4aee7159327cdd977bacb68db55368ad547835fae45570b\n",
            "  Stored in directory: /root/.cache/pip/wheels/d2/ee/3a/5c531df777c03d8c67f22c65f97d6f75321087482d05a9b218\n",
            "Successfully built fvcore\n",
            "Installing collected packages: yacs, portalocker, iopath, fvcore, omegaconf, detectron2\n",
            "Successfully installed detectron2-0.4+cu101 fvcore-0.1.3.post20210317 iopath-0.1.8 omegaconf-2.0.6 portalocker-2.3.0 yacs-0.1.8\n"
          ],
          "name": "stdout"
        }
      ]
    },
    {
      "cell_type": "code",
      "metadata": {
        "id": "_VyPrbFliGU3",
        "colab": {
          "base_uri": "https://localhost:8080/"
        },
        "outputId": "e0e29488-2156-45bc-b67f-f5ad009aab37"
      },
      "source": [
        "#Mount drive so we can upload final_models\n",
        "\n",
        "from google.colab import drive\n",
        "drive.mount('/content/drive')"
      ],
      "execution_count": 3,
      "outputs": [
        {
          "output_type": "stream",
          "text": [
            "Mounted at /content/drive\n"
          ],
          "name": "stdout"
        }
      ]
    },
    {
      "cell_type": "code",
      "metadata": {
        "id": "3qi9iUbiwPFn"
      },
      "source": [
        "%%capture\n",
        "!unzip /content/drive/MyDrive/Models/model_final.zip\n"
      ],
      "execution_count": 4,
      "outputs": []
    },
    {
      "cell_type": "code",
      "metadata": {
        "id": "7spWcR9B8dQG"
      },
      "source": [
        "%%capture\n",
        "!curl -L \"https://app.roboflow.com/ds/vLQMC20FNt?key=6DUxyj946U\" > roboflow.zip; unzip -o roboflow.zip; rm roboflow.zip"
      ],
      "execution_count": 5,
      "outputs": []
    },
    {
      "cell_type": "code",
      "metadata": {
        "id": "mW3TD0txjgOG"
      },
      "source": [
        "import detectron2\n",
        "from detectron2.utils.logger import setup_logger\n",
        "setup_logger()\n",
        "\n",
        "# import some common libraries\n",
        "import numpy as np\n",
        "import cv2\n",
        "import matplotlib.pyplot as plt\n",
        "\n",
        "# import some common detectron2 utilities\n",
        "from detectron2 import model_zoo\n",
        "from detectron2.engine import DefaultPredictor\n",
        "from detectron2.config import get_cfg\n",
        "from detectron2.utils.visualizer import Visualizer\n",
        "from detectron2.data import MetadataCatalog, DatasetCatalog"
      ],
      "execution_count": 6,
      "outputs": []
    },
    {
      "cell_type": "code",
      "metadata": {
        "id": "vC0YjArshmAo"
      },
      "source": [
        "from detectron2.data.datasets import register_coco_instances\n",
        "\n",
        "for d in [\"test\"]:\n",
        "    register_coco_instances(f\"simObjects_{d}\", {}, f\"/content/{d}/_annotations.coco.json\", f\"/content/{d}\")"
      ],
      "execution_count": 7,
      "outputs": []
    },
    {
      "cell_type": "code",
      "metadata": {
        "colab": {
          "base_uri": "https://localhost:8080/"
        },
        "id": "gVfisHumjOLU",
        "outputId": "2068a7cc-8abf-4610-e21d-3569b651bf03"
      },
      "source": [
        "import random\n",
        "from detectron2.data import DatasetCatalog, MetadataCatalog\n",
        "from google.colab.patches import cv2_imshow\n",
        "\n",
        "dataset_dicts = DatasetCatalog.get(\"simObjects_test\")\n",
        "simObjects_train_metadata = MetadataCatalog.get(\"simObjects_test\")"
      ],
      "execution_count": 8,
      "outputs": [
        {
          "output_type": "stream",
          "text": [
            "\u001b[5m\u001b[31mWARNING\u001b[0m \u001b[32m[05/30 17:21:23 d2.data.datasets.coco]: \u001b[0m\n",
            "Category ids in annotations are not in [1, #categories]! We'll apply a mapping for you.\n",
            "\n",
            "\u001b[32m[05/30 17:21:23 d2.data.datasets.coco]: \u001b[0mLoaded 18 images in COCO format from /content/test/_annotations.coco.json\n"
          ],
          "name": "stdout"
        }
      ]
    },
    {
      "cell_type": "code",
      "metadata": {
        "id": "mr2QdV3UkM00"
      },
      "source": [
        "from detectron2.config import get_cfg\n",
        "import os\n",
        "\n",
        "cfg = get_cfg()\n",
        "# add project-specific config (e.g., TensorMask) here if you're not running a model in detectron2's core library\n",
        "cfg.merge_from_file(model_zoo.get_config_file(\"COCO-Detection/faster_rcnn_R_101_FPN_3x.yaml\"))\n",
        "cfg.MODEL.ROI_HEADS.SCORE_THRESH_TEST = 0.5  # set threshold for this model\n",
        "# Find a model from detectron2's model zoo. You can use the https://dl.fbaipublicfiles... url as well\n",
        "cfg.MODEL.WEIGHTS = \"model_final.pth\"\n",
        "cfg.MODEL.ROI_HEADS.NUM_CLASSES = 10\n",
        "predictor = DefaultPredictor(cfg)"
      ],
      "execution_count": 9,
      "outputs": []
    },
    {
      "cell_type": "code",
      "metadata": {
        "colab": {
          "base_uri": "https://localhost:8080/"
        },
        "id": "jDJtSi98jOOF",
        "outputId": "1f1bc675-0c3e-41c0-fe69-e58f0fe96a20"
      },
      "source": [
        "#test evaluation\n",
        "from detectron2.data import DatasetCatalog, MetadataCatalog, build_detection_test_loader\n",
        "from detectron2.evaluation import COCOEvaluator, inference_on_dataset\n",
        "\n",
        "cfg.MODEL.WEIGHTS =  \"model_final.pth\"\n",
        "cfg.MODEL.ROI_HEADS.SCORE_THRESH_TEST = 0.85\n",
        "evaluator = COCOEvaluator(\"simObjects_test\", cfg, False, output_dir=\"./output/\")\n",
        "val_loader = build_detection_test_loader(cfg, \"simObjects_test\")\n",
        "inference_on_dataset(predictor.model, val_loader, evaluator)"
      ],
      "execution_count": 10,
      "outputs": [
        {
          "output_type": "stream",
          "text": [
            "\u001b[5m\u001b[31mWARNING\u001b[0m \u001b[32m[05/30 17:21:38 d2.evaluation.coco_evaluation]: \u001b[0mCOCO Evaluator instantiated using config, this is deprecated behavior. Please pass in explicit arguments instead.\n",
            "\u001b[5m\u001b[31mWARNING\u001b[0m \u001b[32m[05/30 17:21:38 d2.data.datasets.coco]: \u001b[0m\n",
            "Category ids in annotations are not in [1, #categories]! We'll apply a mapping for you.\n",
            "\n",
            "\u001b[32m[05/30 17:21:38 d2.data.datasets.coco]: \u001b[0mLoaded 18 images in COCO format from /content/test/_annotations.coco.json\n",
            "\u001b[32m[05/30 17:21:38 d2.data.build]: \u001b[0mDistribution of instances among all 10 categories:\n",
            "\u001b[36m|   category    | #instances   |   category    | #instances   |   category    | #instances   |\n",
            "|:-------------:|:-------------|:-------------:|:-------------|:-------------:|:-------------|\n",
            "| Coppelia-Si.. | 0            |     Apple     | 5            |    Banana     | 3            |\n",
            "| BluePillsGl.. | 8            | BluePurpleP.. | 5            |     Glass     | 3            |\n",
            "| GreenBlackP.. | 3            |    Orange     | 6            | RedPillsGlass | 6            |\n",
            "|  TV Command   | 3            |               |              |               |              |\n",
            "|     total     | 42           |               |              |               |              |\u001b[0m\n",
            "\u001b[32m[05/30 17:21:38 d2.data.dataset_mapper]: \u001b[0m[DatasetMapper] Augmentations used in inference: [ResizeShortestEdge(short_edge_length=(800, 800), max_size=1333, sample_style='choice')]\n",
            "\u001b[32m[05/30 17:21:38 d2.data.common]: \u001b[0mSerializing 18 elements to byte tensors and concatenating them all ...\n",
            "\u001b[32m[05/30 17:21:38 d2.data.common]: \u001b[0mSerialized dataset takes 0.01 MiB\n",
            "\u001b[32m[05/30 17:21:38 d2.evaluation.evaluator]: \u001b[0mStart inference on 18 images\n"
          ],
          "name": "stdout"
        },
        {
          "output_type": "stream",
          "text": [
            "/usr/local/lib/python3.7/dist-packages/torch/utils/data/dataloader.py:477: UserWarning: This DataLoader will create 4 worker processes in total. Our suggested max number of worker in current system is 2, which is smaller than what this DataLoader is going to create. Please be aware that excessive worker creation might get DataLoader running slow or even freeze, lower the worker number to avoid potential slowness/freeze if necessary.\n",
            "  cpuset_checked))\n"
          ],
          "name": "stderr"
        },
        {
          "output_type": "stream",
          "text": [
            "\u001b[32m[05/30 17:21:39 d2.evaluation.evaluator]: \u001b[0mInference done 11/18. 0.1051 s / img. ETA=0:00:00\n",
            "\u001b[32m[05/30 17:21:40 d2.evaluation.evaluator]: \u001b[0mTotal inference time: 0:00:01.458028 (0.112156 s / img per device, on 1 devices)\n",
            "\u001b[32m[05/30 17:21:40 d2.evaluation.evaluator]: \u001b[0mTotal inference pure compute time: 0:00:01 (0.104918 s / img per device, on 1 devices)\n",
            "\u001b[32m[05/30 17:21:40 d2.evaluation.coco_evaluation]: \u001b[0mPreparing results for COCO format ...\n",
            "\u001b[32m[05/30 17:21:40 d2.evaluation.coco_evaluation]: \u001b[0mSaving results to ./output/coco_instances_results.json\n",
            "\u001b[32m[05/30 17:21:40 d2.evaluation.coco_evaluation]: \u001b[0mEvaluating predictions with unofficial COCO API...\n",
            "Loading and preparing results...\n",
            "DONE (t=0.00s)\n",
            "creating index...\n",
            "index created!\n",
            "\u001b[32m[05/30 17:21:40 d2.evaluation.fast_eval_api]: \u001b[0mEvaluate annotation type *bbox*\n",
            "\u001b[32m[05/30 17:21:40 d2.evaluation.fast_eval_api]: \u001b[0mCOCOeval_opt.evaluate() finished in 0.01 seconds.\n",
            "\u001b[32m[05/30 17:21:40 d2.evaluation.fast_eval_api]: \u001b[0mAccumulating evaluation results...\n",
            "\u001b[32m[05/30 17:21:40 d2.evaluation.fast_eval_api]: \u001b[0mCOCOeval_opt.accumulate() finished in 0.02 seconds.\n",
            " Average Precision  (AP) @[ IoU=0.50:0.95 | area=   all | maxDets=100 ] = 0.664\n",
            " Average Precision  (AP) @[ IoU=0.50      | area=   all | maxDets=100 ] = 0.806\n",
            " Average Precision  (AP) @[ IoU=0.75      | area=   all | maxDets=100 ] = 0.806\n",
            " Average Precision  (AP) @[ IoU=0.50:0.95 | area= small | maxDets=100 ] = -1.000\n",
            " Average Precision  (AP) @[ IoU=0.50:0.95 | area=medium | maxDets=100 ] = 0.706\n",
            " Average Precision  (AP) @[ IoU=0.50:0.95 | area= large | maxDets=100 ] = 0.500\n",
            " Average Recall     (AR) @[ IoU=0.50:0.95 | area=   all | maxDets=  1 ] = 0.754\n",
            " Average Recall     (AR) @[ IoU=0.50:0.95 | area=   all | maxDets= 10 ] = 0.754\n",
            " Average Recall     (AR) @[ IoU=0.50:0.95 | area=   all | maxDets=100 ] = 0.754\n",
            " Average Recall     (AR) @[ IoU=0.50:0.95 | area= small | maxDets=100 ] = -1.000\n",
            " Average Recall     (AR) @[ IoU=0.50:0.95 | area=medium | maxDets=100 ] = 0.773\n",
            " Average Recall     (AR) @[ IoU=0.50:0.95 | area= large | maxDets=100 ] = 0.589\n",
            "\u001b[32m[05/30 17:21:40 d2.evaluation.coco_evaluation]: \u001b[0mEvaluation results for bbox: \n",
            "|   AP   |  AP50  |  AP75  |  APs  |  APm   |  APl   |\n",
            "|:------:|:------:|:------:|:-----:|:------:|:------:|\n",
            "| 66.419 | 80.554 | 80.554 |  nan  | 70.603 | 49.992 |\n",
            "\u001b[32m[05/30 17:21:40 d2.evaluation.coco_evaluation]: \u001b[0mSome metrics cannot be computed and is shown as NaN.\n",
            "\u001b[32m[05/30 17:21:40 d2.evaluation.coco_evaluation]: \u001b[0mPer-category bbox AP: \n",
            "| category                    | AP     | category            | AP     | category      | AP     |\n",
            "|:----------------------------|:-------|:--------------------|:-------|:--------------|:-------|\n",
            "| Coppelia-Simulation-Objects | nan    | Apple               | 87.030 | Banana        | 83.366 |\n",
            "| BluePillsGlass              | 45.792 | BluePurplePillGlass | 61.188 | Glass         | 59.703 |\n",
            "| GreenBlackPillsGlass        | 55.817 | Orange              | 80.481 | RedPillsGlass | 64.422 |\n",
            "| TV Command                  | 59.975 |                     |        |               |        |\n"
          ],
          "name": "stdout"
        },
        {
          "output_type": "execute_result",
          "data": {
            "text/plain": [
              "OrderedDict([('bbox',\n",
              "              {'AP': 66.41940384514642,\n",
              "               'AP-Apple': 87.02970297029702,\n",
              "               'AP-Banana': 83.36633663366337,\n",
              "               'AP-BluePillsGlass': 45.79207920792079,\n",
              "               'AP-BluePurplePillGlass': 61.18811881188119,\n",
              "               'AP-Coppelia-Simulation-Objects': nan,\n",
              "               'AP-Glass': 59.7029702970297,\n",
              "               'AP-GreenBlackPillsGlass': 55.816831683168324,\n",
              "               'AP-Orange': 80.48090523338048,\n",
              "               'AP-RedPillsGlass': 64.42244224422443,\n",
              "               'AP-TV Command': 59.975247524752476,\n",
              "               'AP50': 80.55424590078056,\n",
              "               'AP75': 80.55424590078056,\n",
              "               'APl': 49.991749174917494,\n",
              "               'APm': 70.60275223950966,\n",
              "               'APs': nan})])"
            ]
          },
          "metadata": {
            "tags": []
          },
          "execution_count": 10
        }
      ]
    },
    {
      "cell_type": "markdown",
      "metadata": {
        "id": "cPpm98FnEqVd"
      },
      "source": [
        "# YOLOv5"
      ]
    },
    {
      "cell_type": "code",
      "metadata": {
        "id": "W79fvxCAEpb7"
      },
      "source": [
        "%%capture\n",
        "!git clone https://github.com/ultralytics/yolov5.git\n",
        "%cd yolov5\n",
        "!pip install -r requirements.txt"
      ],
      "execution_count": 11,
      "outputs": []
    },
    {
      "cell_type": "code",
      "metadata": {
        "id": "daKJVncm8lDu"
      },
      "source": [
        "%%capture\n",
        "!curl -L \"https://app.roboflow.com/ds/o032xnyOfQ?key=F1k7Kq0q2j\" > roboflow.zip; unzip -o roboflow.zip; rm roboflow.zip"
      ],
      "execution_count": 12,
      "outputs": []
    },
    {
      "cell_type": "code",
      "metadata": {
        "id": "m_wjXOPeFFGA"
      },
      "source": [
        "!rm data.yaml"
      ],
      "execution_count": 13,
      "outputs": []
    },
    {
      "cell_type": "code",
      "metadata": {
        "colab": {
          "base_uri": "https://localhost:8080/"
        },
        "id": "gnNOWR1I8sB3",
        "outputId": "c97f706a-2611-438a-d362-758599a03ed6"
      },
      "source": [
        "!unzip /content/drive/MyDrive/Models/YOLOv5.zip"
      ],
      "execution_count": 14,
      "outputs": [
        {
          "output_type": "stream",
          "text": [
            "Archive:  /content/drive/MyDrive/Models/YOLOv5.zip\n",
            "  inflating: best.pt                 \n",
            "  inflating: data.yaml               \n"
          ],
          "name": "stdout"
        }
      ]
    },
    {
      "cell_type": "code",
      "metadata": {
        "id": "9pqW8HvJjOTF",
        "colab": {
          "base_uri": "https://localhost:8080/"
        },
        "outputId": "ad432040-9f27-4578-9f45-4fcc103e1d86"
      },
      "source": [
        "# Run YOLOv5x on\n",
        "!python test.py --weights best.pt --data data.yaml --img 512 --iou 0.65 --task test"
      ],
      "execution_count": 15,
      "outputs": [
        {
          "output_type": "stream",
          "text": [
            "Namespace(augment=False, batch_size=32, conf_thres=0.001, data='data.yaml', device='', exist_ok=False, img_size=512, iou_thres=0.65, name='exp', project='runs/test', save_conf=False, save_hybrid=False, save_json=False, save_txt=False, single_cls=False, task='test', verbose=False, weights=['best.pt'])\n",
            "YOLOv5 🚀 v5.0-128-g4b52e19 torch 1.8.1+cu101 CUDA:0 (Tesla T4, 15109.75MB)\n",
            "\n",
            "Fusing layers... \n",
            "Model Summary: 224 layers, 7075486 parameters, 0 gradients, 16.4 GFLOPS\n",
            "\u001b[34m\u001b[1mtest: \u001b[0mScanning 'test/labels' images and labels... 18 found, 0 missing, 0 empty, 0 corrupted: 100% 18/18 [00:00<00:00, 1637.51it/s]\n",
            "\u001b[34m\u001b[1mtest: \u001b[0mNew cache created: test/labels.cache\n",
            "               Class      Images      Labels           P           R      mAP@.5  mAP@.5:.95: 100% 1/1 [00:00<00:00,  1.78it/s]\n",
            "                 all          18          42       0.831       0.945       0.876       0.762\n",
            "               Apple          18           5       0.811           1       0.929       0.819\n",
            "              Banana          18           3       0.729           1        0.83       0.756\n",
            "      BluePillsGlass          18           8       0.863       0.875       0.844       0.738\n",
            " BluePurplePillGlass          18           5           1         0.8       0.796       0.686\n",
            "               Glass          18           3       0.958           1       0.995        0.83\n",
            "GreenBlackPillsGlass          18           3        0.74           1       0.913       0.705\n",
            "              Orange          18           6       0.842           1       0.996       0.942\n",
            "       RedPillsGlass          18           6       0.814       0.833       0.752       0.661\n",
            "          TV Command          18           3       0.722           1        0.83        0.72\n",
            "Speed: 5.7/2.5/8.2 ms inference/NMS/total per 512x512 image at batch-size 32\n",
            "Results saved to runs/test/exp\n"
          ],
          "name": "stdout"
        }
      ]
    }
  ]
}